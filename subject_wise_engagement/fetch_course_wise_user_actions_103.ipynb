{
 "cells": [
  {
   "cell_type": "markdown",
   "metadata": {},
   "source": [
    "# Dictionary Structure for User Engagement Charts\n",
    "\n",
    "In this notebook, I have created a dictionary named `user_action_dictionaries` which stores the charts of each course and also the overall engagement charts term-wise. \n",
    "\n",
    "## Structure of the Dictionary\n",
    "\n",
    "```python\n",
    "{\n",
    "    \"t1-2025\": {\n",
    "        \"overall\": {\n",
    "            \"raw_metrics\": \"raw_df\",\n",
    "            \"unnormalized_scores\": \"unnormalized_df\",\n",
    "            \"log_normalized_scores\": \"log_normalized_df\"\n",
    "        },\n",
    "        \"subject_1\": {\n",
    "            \"raw_metrics\": \"raw_df\",\n",
    "            \"unnormalized_scores\": \"unnormalized_df\",\n",
    "            \"log_normalized_scores\": \"log_normalized_df\"\n",
    "        },\n",
    "        \"subject_2\": {\n",
    "            \"raw_metrics\": \"raw_df\",\n",
    "            \"unnormalized_scores\": \"unnormalized_df\",\n",
    "            \"log_normalized_scores\": \"log_normalized_df\"\n",
    "        }\n",
    "    },\n",
    "    \"t3-2024\": {\n",
    "        \"overall\": {\n",
    "            \"raw_metrics\": \"raw_df\",\n",
    "            \"unnormalized_scores\": \"unnormalized_df\",\n",
    "            \"log_normalized_scores\": \"log_normalized_df\"\n",
    "        },\n",
    "        \"subject_1\": {\n",
    "            \"raw_metrics\": \"raw_df\",\n",
    "            \"unnormalized_scores\": \"unnormalized_df\",\n",
    "            \"log_normalized_scores\": \"log_normalized_df\"\n",
    "        }\n",
    "    },\n",
    "    \"t2-2024\": \"...same\",\n",
    "    \"t1-2024\": \"...same\"\n",
    "}\n"
   ]
  },
  {
   "cell_type": "code",
   "execution_count": null,
   "metadata": {},
   "outputs": [
    {
     "name": "stdout",
     "output_type": "stream",
     "text": [
      "params={\"page\": \"0\"}\n",
      "params={\"page\": \"1\"}\n"
     ]
    }
   ],
   "source": [
    "import pandas as pd\n",
    "import numpy as np\n",
    "\n",
    "# Imports from other programs\n",
    "from global_functions_1 import sanitize_filepath, get_current_trimester, get_previous_trimesters,get_all_course_specific_df, get_overall_engagement_df\n",
    "from fetch_category_IDs_107 import df_map_category_to_id"
   ]
  },
  {
   "cell_type": "code",
   "execution_count": 2,
   "metadata": {},
   "outputs": [
    {
     "name": "stdout",
     "output_type": "stream",
     "text": [
      "['t1-2025', 't3-2024']\n"
     ]
    }
   ],
   "source": [
    "curr_plus_prev_trimesters = get_previous_trimesters(get_current_trimester())[:2] # The items of this list will act as keys of the dictionary.\n",
    "print(curr_plus_prev_trimesters)"
   ]
  },
  {
   "cell_type": "code",
   "execution_count": 3,
   "metadata": {},
   "outputs": [
    {
     "data": {
      "text/plain": [
       "('01/09/2025', '31/12/2025')"
      ]
     },
     "execution_count": 3,
     "metadata": {},
     "output_type": "execute_result"
    }
   ],
   "source": [
    "def get_trimester_dates(trimester): # THIS WILL HELP IN SENDING DATES AS PARAMS FOR QUERIES LIKE 103\n",
    "    t, y = trimester.split('-')\n",
    "    trimester_dates = {\n",
    "        't1': ('01/01', '30/04'),\n",
    "        't2': ('01/05', '31/08'),\n",
    "        't3': ('01/09', '31/12')\n",
    "    }\n",
    "    return (f\"{trimester_dates[t][0]}/{y}\",f\"{trimester_dates[t][1]}/{y}\")\n",
    "get_trimester_dates(\"t3-2025\")"
   ]
  },
  {
   "cell_type": "code",
   "execution_count": 4,
   "metadata": {},
   "outputs": [
    {
     "data": {
      "text/plain": [
       "{'t1-2025': {}, 't3-2024': {}}"
      ]
     },
     "execution_count": 4,
     "metadata": {},
     "output_type": "execute_result"
    }
   ],
   "source": [
    "user_actions_dictionaries = {}\n",
    "for k in curr_plus_prev_trimesters:\n",
    "\tuser_actions_dictionaries[k] = {}\n",
    "user_actions_dictionaries"
   ]
  },
  {
   "cell_type": "code",
   "execution_count": null,
   "metadata": {},
   "outputs": [],
   "source": [
    "error_list = []\n",
    "count = 0\n",
    "for row in df_map_category_to_id.itertuples():\n",
    "    # count+=1\n",
    "    # if count%10!=0: continue\n",
    "    try:\n",
    "        category_id = row.category_id\n",
    "        category_name = sanitize_filepath(row.name).lower() # Proper filenames without :,\" \" etc\n",
    "        for key in user_actions_dictionaries: # keys are actually the terms, like \"t1-2025\",\"t3-2024\"\n",
    "            try:\n",
    "                if category_name not in user_actions_dictionaries[key]:\n",
    "                    user_actions_dictionaries[key][category_name] = {}\n",
    "                    user_actions_dictionaries[key][category_name][\"raw_metrics\"] = pd.DataFrame()\n",
    "                    user_actions_dictionaries[key][category_name][\"unnormalized_scores\"] = pd.DataFrame()\n",
    "                    user_actions_dictionaries[key][category_name][\"log_normalized_scores\"] = pd.DataFrame()\n",
    "                term = key\n",
    "                start_date, end_date = get_trimester_dates(term)\n",
    "                params = {\"category_id\": str(category_id), \"start_date\": start_date, \"end_date\": end_date}\n",
    "                \n",
    "                raw_metrics_df, unnormalized_scores_df, log_normalized_scores_df = get_all_course_specific_df(query_params=tuple(params.items()))\n",
    "\n",
    "                # if not user_actions_df.empty and len(user_actions_df)>75: # THIS WILL BE IMPLEMENTED LATER AFTER DISCUSSION\n",
    "                    \n",
    "                user_actions_dictionaries[key][category_name][\"raw_metrics\"] = raw_metrics_df # So now we have the raw metrics for each category for each term.\n",
    "\n",
    "                user_actions_dictionaries[key][category_name][\"unnormalized_scores\"] = unnormalized_scores_df\n",
    "\n",
    "                user_actions_dictionaries[key][category_name][\"log_normalized_scores\"] = log_normalized_scores_df\n",
    "\n",
    "            except Exception as exec:\n",
    "                print(f\"Error; {exec} for subject: {category_name} for term: {term}\")\n",
    "                error_list.append(key,category_name,exec)\n",
    "                continue\n",
    "    except Exception as exec:\n",
    "        print(f\"Error; {exec} for subject: {category_name}\")\n",
    "        error_list.append(key,category_name,exec)\n",
    "        continue"
   ]
  },
  {
   "cell_type": "code",
   "execution_count": 6,
   "metadata": {},
   "outputs": [],
   "source": [
    "# for key in user_actions_dictionaries.keys():\n",
    "#     print(*list(user_actions_dictionaries[key].keys()), sep=\"\\n\", end=\"\\n*****\\n\")"
   ]
  },
  {
   "cell_type": "code",
   "execution_count": 7,
   "metadata": {},
   "outputs": [],
   "source": [
    "# user_actions_dictionaries[\"t1-2025\"][\"database_management_systems\"].keys()"
   ]
  },
  {
   "cell_type": "code",
   "execution_count": 8,
   "metadata": {},
   "outputs": [],
   "source": [
    "# user_actions_dictionaries[\"t1-2025\"][\"database_management_systems\"][\"raw_metrics\"].head()\n",
    "# user_actions_dictionaries[\"t1-2025\"][\"database_management_systems\"][\"unnormalized_scores\"].head()\n",
    "# user_actions_dictionaries[\"t1-2025\"][\"database_management_systems\"][\"log_normalized_scores\"].head()"
   ]
  },
  {
   "cell_type": "code",
   "execution_count": 9,
   "metadata": {},
   "outputs": [
    {
     "name": "stdout",
     "output_type": "stream",
     "text": [
      "params={\"page\": \"0\", \"start_date\": \"01/01/2025\", \"end_date\": \"30/04/2025\"}\n",
      "params={\"page\": \"1\", \"start_date\": \"01/01/2025\", \"end_date\": \"30/04/2025\"}\n",
      "params={\"page\": \"2\", \"start_date\": \"01/01/2025\", \"end_date\": \"30/04/2025\"}\n",
      "params={\"page\": \"3\", \"start_date\": \"01/01/2025\", \"end_date\": \"30/04/2025\"}\n",
      "params={\"page\": \"4\", \"start_date\": \"01/01/2025\", \"end_date\": \"30/04/2025\"}\n",
      "params={\"page\": \"0\", \"start_date\": \"01/09/2024\", \"end_date\": \"31/12/2024\"}\n",
      "params={\"page\": \"1\", \"start_date\": \"01/09/2024\", \"end_date\": \"31/12/2024\"}\n",
      "params={\"page\": \"2\", \"start_date\": \"01/09/2024\", \"end_date\": \"31/12/2024\"}\n",
      "params={\"page\": \"3\", \"start_date\": \"01/09/2024\", \"end_date\": \"31/12/2024\"}\n",
      "params={\"page\": \"4\", \"start_date\": \"01/09/2024\", \"end_date\": \"31/12/2024\"}\n"
     ]
    }
   ],
   "source": [
    "for key in user_actions_dictionaries:\n",
    "    term=key\n",
    "    start_date, end_date = get_trimester_dates(term)\n",
    "    params = {\"start_date\": start_date, \"end_date\": end_date}\n",
    "    \n",
    "    user_actions_dictionaries[term][\"overall\"] = {\n",
    "        \"raw_metrics\": pd.DataFrame(),\n",
    "        \"unnormalized_scores\": pd.DataFrame(),\n",
    "        \"log_normalized_scores\": pd.DataFrame()\n",
    "    }\n",
    "    raw_metrics_all_users_df, unnormalized_scores_all_users_df, log_normalized_scores_all_users_df = get_overall_engagement_df(query_params=tuple(params.items()))\n",
    "\n",
    "    user_actions_dictionaries[term][\"overall\"][\"raw_metrics\"] = raw_metrics_all_users_df\n",
    "    user_actions_dictionaries[term][\"overall\"][\"unnormalized_scores\"] = unnormalized_scores_all_users_df\n",
    "    user_actions_dictionaries[term][\"overall\"][\"log_normalized_scores\"] = log_normalized_scores_all_users_df\n",
    "    "
   ]
  },
  {
   "cell_type": "code",
   "execution_count": 12,
   "metadata": {},
   "outputs": [
    {
     "data": {
      "text/plain": [
       "dict_keys(['raw_metrics', 'unnormalized_scores', 'log_normalized_scores'])"
      ]
     },
     "execution_count": 12,
     "metadata": {},
     "output_type": "execute_result"
    }
   ],
   "source": [
    "term = \"t1-2025\"\n",
    "user_actions_dictionaries[term][\"overall\"].keys()"
   ]
  },
  {
   "cell_type": "code",
   "execution_count": 15,
   "metadata": {},
   "outputs": [
    {
     "data": {
      "text/html": [
       "<div>\n",
       "<style scoped>\n",
       "    .dataframe tbody tr th:only-of-type {\n",
       "        vertical-align: middle;\n",
       "    }\n",
       "\n",
       "    .dataframe tbody tr th {\n",
       "        vertical-align: top;\n",
       "    }\n",
       "\n",
       "    .dataframe thead th {\n",
       "        text-align: right;\n",
       "    }\n",
       "</style>\n",
       "<table border=\"1\" class=\"dataframe\">\n",
       "  <thead>\n",
       "    <tr style=\"text-align: right;\">\n",
       "      <th></th>\n",
       "      <th>user_id</th>\n",
       "      <th>likes_given</th>\n",
       "      <th>likes_received</th>\n",
       "      <th>topics_created</th>\n",
       "      <th>posts_created</th>\n",
       "      <th>days_visited</th>\n",
       "      <th>solutions</th>\n",
       "      <th>initial_score</th>\n",
       "      <th>z_score</th>\n",
       "    </tr>\n",
       "  </thead>\n",
       "  <tbody>\n",
       "    <tr>\n",
       "      <th>802</th>\n",
       "      <td>933</td>\n",
       "      <td>5.268</td>\n",
       "      <td>5.858</td>\n",
       "      <td>3.466</td>\n",
       "      <td>5.313</td>\n",
       "      <td>4.745</td>\n",
       "      <td>2.890</td>\n",
       "      <td>27.540</td>\n",
       "      <td>11.31</td>\n",
       "    </tr>\n",
       "    <tr>\n",
       "      <th>14</th>\n",
       "      <td>11</td>\n",
       "      <td>5.460</td>\n",
       "      <td>6.729</td>\n",
       "      <td>3.219</td>\n",
       "      <td>5.298</td>\n",
       "      <td>4.736</td>\n",
       "      <td>1.609</td>\n",
       "      <td>27.051</td>\n",
       "      <td>11.11</td>\n",
       "    </tr>\n",
       "    <tr>\n",
       "      <th>3335</th>\n",
       "      <td>4025</td>\n",
       "      <td>4.625</td>\n",
       "      <td>4.575</td>\n",
       "      <td>3.434</td>\n",
       "      <td>4.745</td>\n",
       "      <td>4.710</td>\n",
       "      <td>2.890</td>\n",
       "      <td>24.979</td>\n",
       "      <td>10.23</td>\n",
       "    </tr>\n",
       "    <tr>\n",
       "      <th>303</th>\n",
       "      <td>348</td>\n",
       "      <td>4.111</td>\n",
       "      <td>5.142</td>\n",
       "      <td>1.946</td>\n",
       "      <td>5.631</td>\n",
       "      <td>4.466</td>\n",
       "      <td>3.219</td>\n",
       "      <td>24.515</td>\n",
       "      <td>10.03</td>\n",
       "    </tr>\n",
       "    <tr>\n",
       "      <th>2</th>\n",
       "      <td>-2</td>\n",
       "      <td>3.466</td>\n",
       "      <td>4.220</td>\n",
       "      <td>8.242</td>\n",
       "      <td>8.420</td>\n",
       "      <td>0.000</td>\n",
       "      <td>0.000</td>\n",
       "      <td>24.348</td>\n",
       "      <td>9.96</td>\n",
       "    </tr>\n",
       "  </tbody>\n",
       "</table>\n",
       "</div>"
      ],
      "text/plain": [
       "      user_id  likes_given  likes_received  topics_created  posts_created  \\\n",
       "802       933        5.268           5.858           3.466          5.313   \n",
       "14         11        5.460           6.729           3.219          5.298   \n",
       "3335     4025        4.625           4.575           3.434          4.745   \n",
       "303       348        4.111           5.142           1.946          5.631   \n",
       "2          -2        3.466           4.220           8.242          8.420   \n",
       "\n",
       "      days_visited  solutions  initial_score  z_score  \n",
       "802          4.745      2.890         27.540    11.31  \n",
       "14           4.736      1.609         27.051    11.11  \n",
       "3335         4.710      2.890         24.979    10.23  \n",
       "303          4.466      3.219         24.515    10.03  \n",
       "2            0.000      0.000         24.348     9.96  "
      ]
     },
     "execution_count": 15,
     "metadata": {},
     "output_type": "execute_result"
    }
   ],
   "source": [
    "user_actions_dictionaries[term][\"overall\"][\"log_normalized_scores\"].head()"
   ]
  }
 ],
 "metadata": {
  "kernelspec": {
   "display_name": "myenv",
   "language": "python",
   "name": "python3"
  },
  "language_info": {
   "codemirror_mode": {
    "name": "ipython",
    "version": 3
   },
   "file_extension": ".py",
   "mimetype": "text/x-python",
   "name": "python",
   "nbconvert_exporter": "python",
   "pygments_lexer": "ipython3",
   "version": "3.11.9"
  }
 },
 "nbformat": 4,
 "nbformat_minor": 2
}
