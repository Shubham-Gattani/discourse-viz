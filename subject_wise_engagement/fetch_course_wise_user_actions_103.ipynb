{
 "cells": [
  {
   "cell_type": "markdown",
   "metadata": {},
   "source": [
    "# In this notebook, I have selected 5 random course_ids and fetched the user_action data of these courses and saved them in an excel file."
   ]
  },
  {
   "cell_type": "code",
   "execution_count": null,
   "metadata": {},
   "outputs": [],
   "source": [
    "import pandas as pd\n",
    "import numpy as np\n",
    "import time, json, requests, yaml, random\n",
    "\n",
    "with open(\"..\\key.yaml\", \"r\") as file:\n",
    "    api_keys = yaml.safe_load(file)\n",
    "# api_keys)"
   ]
  },
  {
   "cell_type": "code",
   "execution_count": 6,
   "metadata": {},
   "outputs": [
    {
     "data": {
      "text/html": [
       "<div>\n",
       "<style scoped>\n",
       "    .dataframe tbody tr th:only-of-type {\n",
       "        vertical-align: middle;\n",
       "    }\n",
       "\n",
       "    .dataframe tbody tr th {\n",
       "        vertical-align: top;\n",
       "    }\n",
       "\n",
       "    .dataframe thead th {\n",
       "        text-align: right;\n",
       "    }\n",
       "</style>\n",
       "<table border=\"1\" class=\"dataframe\">\n",
       "  <thead>\n",
       "    <tr style=\"text-align: right;\">\n",
       "      <th></th>\n",
       "      <th>category_id</th>\n",
       "      <th>name</th>\n",
       "    </tr>\n",
       "  </thead>\n",
       "  <tbody>\n",
       "    <tr>\n",
       "      <th>4</th>\n",
       "      <td>22</td>\n",
       "      <td>English II</td>\n",
       "    </tr>\n",
       "    <tr>\n",
       "      <th>7</th>\n",
       "      <td>25</td>\n",
       "      <td>Programming in Python</td>\n",
       "    </tr>\n",
       "    <tr>\n",
       "      <th>9</th>\n",
       "      <td>27</td>\n",
       "      <td>Database Management Systems</td>\n",
       "    </tr>\n",
       "    <tr>\n",
       "      <th>10</th>\n",
       "      <td>28</td>\n",
       "      <td>Machine Learning Foundations</td>\n",
       "    </tr>\n",
       "    <tr>\n",
       "      <th>11</th>\n",
       "      <td>29</td>\n",
       "      <td>Modern Application Development I</td>\n",
       "    </tr>\n",
       "  </tbody>\n",
       "</table>\n",
       "</div>"
      ],
      "text/plain": [
       "    category_id                              name\n",
       "4            22                        English II\n",
       "7            25             Programming in Python\n",
       "9            27       Database Management Systems\n",
       "10           28      Machine Learning Foundations\n",
       "11           29  Modern Application Development I"
      ]
     },
     "execution_count": 6,
     "metadata": {},
     "output_type": "execute_result"
    }
   ],
   "source": [
    "# Get all the category_IDs\n",
    "df = pd.read_csv(\"all_category_ids.csv\")\n",
    "ids_for_demo = [22,25,27,28,29]\n",
    "df_random = df[df[\"category_id\"].isin(ids_for_demo)]\n",
    "df_random"
   ]
  },
  {
   "cell_type": "code",
   "execution_count": 7,
   "metadata": {},
   "outputs": [],
   "source": [
    "def execute_query(query_id, query_params=None):\n",
    "    DISCOURSE_BASE_URL = \"https://discourse.onlinedegree.iitm.ac.in\"\n",
    "    GROUP_NAME = \"discourse_analytics\"\n",
    "    API_KEY_GLOBAL= api_keys[\"API_KEY\"]\n",
    "    API_USERNAME = 'shubhamG'\n",
    "\n",
    "    iteration_count = 0  # Initialize iteration counter\n",
    "    results_list = []  # List to store results\n",
    "    has_more_results = True  # Flag to control the loop for pagination\n",
    "\n",
    "    # Check if query_params is provided\n",
    "    if query_params is None:\n",
    "        pass  # No parameters provided, continue with default\n",
    "    else:\n",
    "        # Ensure query_params is a dictionary\n",
    "        if not isinstance(query_params, dict):\n",
    "            raise ValueError(\"Query parameters must be a dictionary.\")\n",
    "\n",
    "    # Set up headers for the API request\n",
    "    headers = {\n",
    "        \"Accept\": \"*/*\",\n",
    "        \"Api-Key\": API_KEY_GLOBAL,  # Get API key from userdata\n",
    "        \"Api-Username\": API_USERNAME,  # Set the username for the API\n",
    "        \"Content-Type\": \"multipart/form-data\"  # Set content type\n",
    "    }\n",
    "\n",
    "    # Loop until there are no more results\n",
    "    while has_more_results:\n",
    "        # Construct the request URL for the API\n",
    "        request_url = f\"{DISCOURSE_BASE_URL}/g/{GROUP_NAME}/reports/{query_id}/run\"\n",
    "\n",
    "        # Prepare the data payload for the request\n",
    "        if query_params is not None:\n",
    "            payload = {'page': str(iteration_count)}  # Add page number to payload\n",
    "            payload.update(query_params)  # Update payload with additional query parameters\n",
    "            data_payload = 'params=' + json.dumps(payload)  # Convert payload to JSON string\n",
    "        else:\n",
    "            data_payload = f'params={{\"page\": \"{iteration_count}\"}}'  # Default payload with page number\n",
    "\n",
    "        try:\n",
    "            # Send POST request to the API\n",
    "            # print(data_payload)\n",
    "            response = requests.request(\"POST\", request_url, data=data_payload, headers=headers)\n",
    "            response.raise_for_status()  # Raise an error for bad responses\n",
    "\n",
    "            json_response = response.json()  # Parse the JSON response\n",
    "\n",
    "            # Check if there are no results\n",
    "            if json_response[\"result_count\"] == 0:\n",
    "                has_more_results = False  # No more results to fetch\n",
    "                break\n",
    "\n",
    "            # Iterate over the rows in the response\n",
    "            for index in range(len(json_response['rows'])):\n",
    "                # Append each row as a dictionary to the results list\n",
    "                results_list.append(dict(zip(json_response['columns'], json_response['rows'][index])))\n",
    "\n",
    "        except Exception as e:\n",
    "            # Log key-related errors\n",
    "            print(f'error: {e}')\n",
    "            has_more_results = False  # Stop fetching results\n",
    "            break\n",
    "\n",
    "        iteration_count += 1  # Increment iteration count for pagination\n",
    "        time.sleep(1.4)  # Wait before the next request\n",
    "\n",
    "    results_dataframe = pd.DataFrame(results_list)  # Convert results list to DataFrame\n",
    "    return results_dataframe  # Return the DataFrame with results"
   ]
  },
  {
   "cell_type": "code",
   "execution_count": 8,
   "metadata": {},
   "outputs": [],
   "source": [
    "# Pick any random 5 values from category_ids\n",
    "for row in df_random.itertuples():\n",
    "    category_id = row.category_id\n",
    "    category_name = row.name\n",
    "    params = {\"category_id\":str(category_id),\"start_date\":\"22/01/2024\",\"end_date\":'28/04/2024'}\n",
    "    df = execute_query(103, query_params=params)\n",
    "    df.to_excel(f\"course_excel_data/{category_name}.xlsx\", sheet_name=\"user_actions_data\", index=False)"
   ]
  },
  {
   "cell_type": "code",
   "execution_count": null,
   "metadata": {},
   "outputs": [],
   "source": []
  },
  {
   "cell_type": "code",
   "execution_count": null,
   "metadata": {},
   "outputs": [],
   "source": []
  },
  {
   "cell_type": "code",
   "execution_count": null,
   "metadata": {},
   "outputs": [],
   "source": []
  }
 ],
 "metadata": {
  "kernelspec": {
   "display_name": "env",
   "language": "python",
   "name": "python3"
  },
  "language_info": {
   "codemirror_mode": {
    "name": "ipython",
    "version": 3
   },
   "file_extension": ".py",
   "mimetype": "text/x-python",
   "name": "python",
   "nbconvert_exporter": "python",
   "pygments_lexer": "ipython3",
   "version": "3.11.9"
  }
 },
 "nbformat": 4,
 "nbformat_minor": 2
}
