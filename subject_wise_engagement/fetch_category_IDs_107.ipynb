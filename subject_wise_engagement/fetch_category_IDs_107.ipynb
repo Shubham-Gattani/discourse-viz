{
 "cells": [
  {
   "cell_type": "markdown",
   "metadata": {},
   "source": [
    "# This notebook was created to get the category IDs for the categories/courses that we want to analyse. For example, mlp<-->33"
   ]
  },
  {
   "cell_type": "code",
   "execution_count": null,
   "metadata": {},
   "outputs": [],
   "source": [
    "import pandas as pd\n",
    "import yaml\n",
    "with open(\"..\\key.yaml\", \"r\") as file:\n",
    "    api_keys = yaml.safe_load(file)\n",
    "# api_keys"
   ]
  },
  {
   "cell_type": "code",
   "execution_count": null,
   "metadata": {},
   "outputs": [
    {
     "name": "stdout",
     "output_type": "stream",
     "text": [
      "params={\"page\": \"0\"}\n",
      "params={\"page\": \"1\"}\n"
     ]
    }
   ],
   "source": [
    "import requests\n",
    "import pandas as pd\n",
    "import time\n",
    "import json  # Importing json to handle JSON data\n",
    "\n",
    "def execute_query(query_id, query_params=None):\n",
    "    DISCOURSE_BASE_URL = \"https://discourse.onlinedegree.iitm.ac.in\"\n",
    "    GROUP_NAME = \"discourse_analytics\"\n",
    "    API_KEY_GLOBAL= api_keys[\"API_KEY\"]\n",
    "    API_USERNAME = 'shubhamG'\n",
    "\n",
    "    iteration_count = 0  # Initialize iteration counter\n",
    "    results_list = []  # List to store results\n",
    "    has_more_results = True  # Flag to control the loop for pagination\n",
    "\n",
    "    # Check if query_params is provided\n",
    "    if query_params is None:\n",
    "        pass  # No parameters provided, continue with default\n",
    "    else:\n",
    "        # Ensure query_params is a dictionary\n",
    "        if not isinstance(query_params, dict):\n",
    "            raise ValueError(\"Query parameters must be a dictionary.\")\n",
    "\n",
    "    # Set up headers for the API request\n",
    "    headers = {\n",
    "        \"Accept\": \"*/*\",\n",
    "        \"Api-Key\": API_KEY_GLOBAL,  # Get API key from userdata\n",
    "        \"Api-Username\": \"shubhamG\",  # Set the username for the API\n",
    "        \"Content-Type\": \"multipart/form-data\"  # Set content type\n",
    "    }\n",
    "\n",
    "    # Loop until there are no more results\n",
    "    while has_more_results:\n",
    "        # Construct the request URL for the API\n",
    "        request_url = f\"{DISCOURSE_BASE_URL}/g/{GROUP_NAME}/reports/{query_id}/run\"\n",
    "\n",
    "        # Prepare the data payload for the request\n",
    "        if query_params is not None:\n",
    "            payload = {'page': str(iteration_count)}  # Add page number to payload\n",
    "            payload.update(query_params)  # Update payload with additional query parameters\n",
    "            data_payload = 'params=' + json.dumps(payload)  # Convert payload to JSON string\n",
    "        else:\n",
    "            data_payload = f'params={{\"page\": \"{iteration_count}\"}}'  # Default payload with page number\n",
    "\n",
    "        try:\n",
    "            # Send POST request to the API\n",
    "            print(data_payload)\n",
    "            response = requests.request(\"POST\", request_url, data=data_payload, headers=headers)\n",
    "            response.raise_for_status()  # Raise an error for bad responses\n",
    "\n",
    "            json_response = response.json()  # Parse the JSON response\n",
    "\n",
    "            # Check if there are no results\n",
    "            if json_response[\"result_count\"] == 0:\n",
    "                has_more_results = False  # No more results to fetch\n",
    "                break\n",
    "\n",
    "            # Iterate over the rows in the response\n",
    "            for index in range(len(json_response['rows'])):\n",
    "                # Append each row as a dictionary to the results list\n",
    "                results_list.append(dict(zip(json_response['columns'], json_response['rows'][index])))\n",
    "\n",
    "        except requests.exceptions.RequestException as e:\n",
    "            # Log request-related errors\n",
    "            # logging.error(f'Request error: {e}')\n",
    "            if hasattr(e, 'response') and e.response is not None:\n",
    "                print(f'Status code: {e.response.status_code}')  # Log status code\n",
    "                print(f'Error text: {e.response.text}')  # Log error text\n",
    "\n",
    "            has_more_results = False  # Stop fetching results\n",
    "            break\n",
    "        except ValueError as e:\n",
    "            # Log JSON parsing errors\n",
    "            print(f'Error parsing JSON: {e}')\n",
    "            has_more_results = False  # Stop fetching results\n",
    "            break\n",
    "        except KeyError as e:\n",
    "            # Log key-related errors\n",
    "            print(f'Key error: {e}')\n",
    "            has_more_results = False  # Stop fetching results\n",
    "            break\n",
    "\n",
    "        iteration_count += 1  # Increment iteration count for pagination\n",
    "        time.sleep(1.4)  # Wait before the next request\n",
    "\n",
    "    results_dataframe = pd.DataFrame(results_list)  # Convert results list to DataFrame\n",
    "    return results_dataframe  # Return the DataFrame with results\n",
    "\n",
    "\n",
    "\n",
    "req_data = execute_query(query_id=107,query_params=None)"
   ]
  },
  {
   "cell_type": "code",
   "execution_count": 6,
   "metadata": {},
   "outputs": [
    {
     "name": "stdout",
     "output_type": "stream",
     "text": [
      "<class 'pandas.core.frame.DataFrame'>\n",
      "RangeIndex: 69 entries, 0 to 68\n",
      "Data columns (total 2 columns):\n",
      " #   Column       Non-Null Count  Dtype \n",
      "---  ------       --------------  ----- \n",
      " 0   category_id  69 non-null     int64 \n",
      " 1   name         69 non-null     object\n",
      "dtypes: int64(1), object(1)\n",
      "memory usage: 1.2+ KB\n"
     ]
    }
   ],
   "source": [
    "req_data.info()"
   ]
  },
  {
   "cell_type": "code",
   "execution_count": 7,
   "metadata": {},
   "outputs": [
    {
     "data": {
      "text/html": [
       "<div>\n",
       "<style scoped>\n",
       "    .dataframe tbody tr th:only-of-type {\n",
       "        vertical-align: middle;\n",
       "    }\n",
       "\n",
       "    .dataframe tbody tr th {\n",
       "        vertical-align: top;\n",
       "    }\n",
       "\n",
       "    .dataframe thead th {\n",
       "        text-align: right;\n",
       "    }\n",
       "</style>\n",
       "<table border=\"1\" class=\"dataframe\">\n",
       "  <thead>\n",
       "    <tr style=\"text-align: right;\">\n",
       "      <th></th>\n",
       "      <th>category_id</th>\n",
       "      <th>name</th>\n",
       "    </tr>\n",
       "  </thead>\n",
       "  <tbody>\n",
       "    <tr>\n",
       "      <th>0</th>\n",
       "      <td>18</td>\n",
       "      <td>Mathematics for Data Science I</td>\n",
       "    </tr>\n",
       "    <tr>\n",
       "      <th>1</th>\n",
       "      <td>19</td>\n",
       "      <td>Statistics for Data Science I</td>\n",
       "    </tr>\n",
       "    <tr>\n",
       "      <th>2</th>\n",
       "      <td>20</td>\n",
       "      <td>Computational Thinking</td>\n",
       "    </tr>\n",
       "    <tr>\n",
       "      <th>3</th>\n",
       "      <td>21</td>\n",
       "      <td>English I</td>\n",
       "    </tr>\n",
       "    <tr>\n",
       "      <th>4</th>\n",
       "      <td>22</td>\n",
       "      <td>English II</td>\n",
       "    </tr>\n",
       "  </tbody>\n",
       "</table>\n",
       "</div>"
      ],
      "text/plain": [
       "   category_id                            name\n",
       "0           18  Mathematics for Data Science I\n",
       "1           19   Statistics for Data Science I\n",
       "2           20          Computational Thinking\n",
       "3           21                       English I\n",
       "4           22                      English II"
      ]
     },
     "execution_count": 7,
     "metadata": {},
     "output_type": "execute_result"
    }
   ],
   "source": [
    "req_data.head(5)"
   ]
  },
  {
   "cell_type": "code",
   "execution_count": 9,
   "metadata": {},
   "outputs": [],
   "source": [
    "req_data.to_csv(\"all_category_ids.csv\", index=False)"
   ]
  }
 ],
 "metadata": {
  "kernelspec": {
   "display_name": "env",
   "language": "python",
   "name": "python3"
  },
  "language_info": {
   "codemirror_mode": {
    "name": "ipython",
    "version": 3
   },
   "file_extension": ".py",
   "mimetype": "text/x-python",
   "name": "python",
   "nbconvert_exporter": "python",
   "pygments_lexer": "ipython3",
   "version": "3.11.9"
  }
 },
 "nbformat": 4,
 "nbformat_minor": 2
}
