{
 "cells": [
  {
   "cell_type": "markdown",
   "metadata": {},
   "source": [
    "### **In this notebook I will try to find the data of ALL discourse users between start and end date**"
   ]
  },
  {
   "cell_type": "code",
   "execution_count": null,
   "metadata": {},
   "outputs": [],
   "source": [
    "import requests\n",
    "import pandas as pd\n",
    "import os\n",
    "import time\n",
    "import json  # Importing json to handle JSON data\n",
    "\n",
    "from global_functions_1 import execute_query_102"
   ]
  },
  {
   "cell_type": "code",
   "execution_count": null,
   "metadata": {},
   "outputs": [
    {
     "name": "stdout",
     "output_type": "stream",
     "text": [
      "params={\"page\": \"0\", \"start_date\": \"01/01/2025\", \"end_date\": \"30/04/2025\"}\n",
      "params={\"page\": \"1\", \"start_date\": \"01/01/2025\", \"end_date\": \"30/04/2025\"}\n",
      "params={\"page\": \"2\", \"start_date\": \"01/01/2025\", \"end_date\": \"30/04/2025\"}\n",
      "params={\"page\": \"3\", \"start_date\": \"01/01/2025\", \"end_date\": \"30/04/2025\"}\n",
      "params={\"page\": \"4\", \"start_date\": \"01/01/2025\", \"end_date\": \"30/04/2025\"}\n",
      "params={\"page\": \"5\", \"start_date\": \"01/01/2025\", \"end_date\": \"30/04/2025\"}\n",
      "params={\"page\": \"6\", \"start_date\": \"01/01/2025\", \"end_date\": \"30/04/2025\"}\n",
      "params={\"page\": \"7\", \"start_date\": \"01/01/2025\", \"end_date\": \"30/04/2025\"}\n",
      "params={\"page\": \"8\", \"start_date\": \"01/01/2025\", \"end_date\": \"30/04/2025\"}\n",
      "params={\"page\": \"9\", \"start_date\": \"01/01/2025\", \"end_date\": \"30/04/2025\"}\n",
      "params={\"page\": \"10\", \"start_date\": \"01/01/2025\", \"end_date\": \"30/04/2025\"}\n",
      "params={\"page\": \"11\", \"start_date\": \"01/01/2025\", \"end_date\": \"30/04/2025\"}\n",
      "params={\"page\": \"12\", \"start_date\": \"01/01/2025\", \"end_date\": \"30/04/2025\"}\n",
      "params={\"page\": \"13\", \"start_date\": \"01/01/2025\", \"end_date\": \"30/04/2025\"}\n",
      "params={\"page\": \"14\", \"start_date\": \"01/01/2025\", \"end_date\": \"30/04/2025\"}\n",
      "params={\"page\": \"15\", \"start_date\": \"01/01/2025\", \"end_date\": \"30/04/2025\"}\n",
      "params={\"page\": \"16\", \"start_date\": \"01/01/2025\", \"end_date\": \"30/04/2025\"}\n",
      "params={\"page\": \"17\", \"start_date\": \"01/01/2025\", \"end_date\": \"30/04/2025\"}\n",
      "params={\"page\": \"18\", \"start_date\": \"01/01/2025\", \"end_date\": \"30/04/2025\"}\n",
      "params={\"page\": \"19\", \"start_date\": \"01/01/2025\", \"end_date\": \"30/04/2025\"}\n",
      "params={\"page\": \"20\", \"start_date\": \"01/01/2025\", \"end_date\": \"30/04/2025\"}\n",
      "params={\"page\": \"21\", \"start_date\": \"01/01/2025\", \"end_date\": \"30/04/2025\"}\n",
      "params={\"page\": \"22\", \"start_date\": \"01/01/2025\", \"end_date\": \"30/04/2025\"}\n",
      "params={\"page\": \"23\", \"start_date\": \"01/01/2025\", \"end_date\": \"30/04/2025\"}\n",
      "params={\"page\": \"24\", \"start_date\": \"01/01/2025\", \"end_date\": \"30/04/2025\"}\n",
      "params={\"page\": \"25\", \"start_date\": \"01/01/2025\", \"end_date\": \"30/04/2025\"}\n",
      "params={\"page\": \"26\", \"start_date\": \"01/01/2025\", \"end_date\": \"30/04/2025\"}\n",
      "params={\"page\": \"27\", \"start_date\": \"01/01/2025\", \"end_date\": \"30/04/2025\"}\n",
      "params={\"page\": \"28\", \"start_date\": \"01/01/2025\", \"end_date\": \"30/04/2025\"}\n",
      "params={\"page\": \"29\", \"start_date\": \"01/01/2025\", \"end_date\": \"30/04/2025\"}\n",
      "params={\"page\": \"30\", \"start_date\": \"01/01/2025\", \"end_date\": \"30/04/2025\"}\n",
      "params={\"page\": \"31\", \"start_date\": \"01/01/2025\", \"end_date\": \"30/04/2025\"}\n",
      "params={\"page\": \"32\", \"start_date\": \"01/01/2025\", \"end_date\": \"30/04/2025\"}\n",
      "params={\"page\": \"33\", \"start_date\": \"01/01/2025\", \"end_date\": \"30/04/2025\"}\n",
      "params={\"page\": \"34\", \"start_date\": \"01/01/2025\", \"end_date\": \"30/04/2025\"}\n",
      "params={\"page\": \"35\", \"start_date\": \"01/01/2025\", \"end_date\": \"30/04/2025\"}\n",
      "params={\"page\": \"36\", \"start_date\": \"01/01/2025\", \"end_date\": \"30/04/2025\"}\n",
      "params={\"page\": \"37\", \"start_date\": \"01/01/2025\", \"end_date\": \"30/04/2025\"}\n",
      "params={\"page\": \"38\", \"start_date\": \"01/01/2025\", \"end_date\": \"30/04/2025\"}\n",
      "params={\"page\": \"39\", \"start_date\": \"01/01/2025\", \"end_date\": \"30/04/2025\"}\n",
      "params={\"page\": \"40\", \"start_date\": \"01/01/2025\", \"end_date\": \"30/04/2025\"}\n",
      "params={\"page\": \"41\", \"start_date\": \"01/01/2025\", \"end_date\": \"30/04/2025\"}\n",
      "params={\"page\": \"42\", \"start_date\": \"01/01/2025\", \"end_date\": \"30/04/2025\"}\n",
      "params={\"page\": \"43\", \"start_date\": \"01/01/2025\", \"end_date\": \"30/04/2025\"}\n"
     ]
    }
   ],
   "source": [
    "params = {\"start_date\":\"01/01/2025\",\"end_date\":'30/04/2025'}\n",
    "req_data = execute_query_102(query_id=102,query_params=params)"
   ]
  },
  {
   "cell_type": "code",
   "execution_count": 1,
   "metadata": {},
   "outputs": [],
   "source": [
    "# req_data.info()"
   ]
  },
  {
   "cell_type": "code",
   "execution_count": 2,
   "metadata": {},
   "outputs": [],
   "source": [
    "# all_users_data_folder = \"../data/overall_data_all_users\"\n",
    "# os.makedirs(all_users_data_folder, exist_ok=True)\n",
    "# req_data.to_excel(os.path.join(all_users_data_folder,\"data_all_users_t1_2025.xlsx\"),\n",
    "#                   index=False, \n",
    "#                   sheet_name=\"user_actions_data\")"
   ]
  },
  {
   "cell_type": "code",
   "execution_count": null,
   "metadata": {},
   "outputs": [],
   "source": []
  },
  {
   "cell_type": "code",
   "execution_count": null,
   "metadata": {},
   "outputs": [],
   "source": []
  },
  {
   "cell_type": "code",
   "execution_count": null,
   "metadata": {},
   "outputs": [],
   "source": []
  }
 ],
 "metadata": {
  "kernelspec": {
   "display_name": "myenv",
   "language": "python",
   "name": "python3"
  },
  "language_info": {
   "codemirror_mode": {
    "name": "ipython",
    "version": 3
   },
   "file_extension": ".py",
   "mimetype": "text/x-python",
   "name": "python",
   "nbconvert_exporter": "python",
   "pygments_lexer": "ipython3",
   "version": "3.11.9"
  }
 },
 "nbformat": 4,
 "nbformat_minor": 2
}
