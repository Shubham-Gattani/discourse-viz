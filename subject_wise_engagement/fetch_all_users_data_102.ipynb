{
 "cells": [
  {
   "cell_type": "markdown",
   "metadata": {},
   "source": [
    "### **In this notebook I will try to find the data of ALL discourse users between start and end date**"
   ]
  },
  {
   "cell_type": "code",
   "execution_count": 3,
   "metadata": {},
   "outputs": [],
   "source": [
    "import yaml\n",
    "with open(\"..\\key.yaml\", \"r\") as file:\n",
    "    api_keys = yaml.safe_load(file)\n",
    "# api_keys"
   ]
  },
  {
   "cell_type": "code",
   "execution_count": null,
   "metadata": {},
   "outputs": [],
   "source": [
    "import requests\n",
    "import pandas as pd\n",
    "import logging\n",
    "import time\n",
    "import json  # Importing json to handle JSON data\n",
    "\n",
    "def execute_query(query_id, query_params=None):\n",
    "    DISCOURSE_BASE_URL = \"https://discourse.onlinedegree.iitm.ac.in\"\n",
    "    GROUP_NAME = \"discourse_analytics\"\n",
    "    API_KEY_GLOBAL= api_keys[\"API_KEY\"]\n",
    "    API_USERNAME = 'shubhamG'\n",
    "\n",
    "    iteration_count = 0  # Initialize iteration counter\n",
    "    results_list = []  # List to store results\n",
    "    has_more_results = True  # Flag to control the loop for pagination\n",
    "\n",
    "    # Check if query_params is provided\n",
    "    if query_params is None:\n",
    "        pass  # No parameters provided, continue with default\n",
    "    else:\n",
    "        # Ensure query_params is a dictionary\n",
    "        if not isinstance(query_params, dict):\n",
    "            raise ValueError(\"Query parameters must be a dictionary.\")\n",
    "\n",
    "    # Set up headers for the API request\n",
    "    headers = {\n",
    "        \"Accept\": \"*/*\",\n",
    "        \"Api-Key\": API_KEY_GLOBAL,  # Get API key from userdata\n",
    "        \"Api-Username\": \"shubhamG\",  # Set the username for the API\n",
    "        \"Content-Type\": \"multipart/form-data\"  # Set content type\n",
    "    }\n",
    "\n",
    "    # Loop until there are no more results\n",
    "    while has_more_results:\n",
    "        # Construct the request URL for the API\n",
    "        request_url = f\"{DISCOURSE_BASE_URL}/g/{GROUP_NAME}/reports/{query_id}/run\"\n",
    "\n",
    "        # Prepare the data payload for the request\n",
    "        if query_params is not None:\n",
    "            payload = {'page': str(iteration_count)}  # Add page number to payload\n",
    "            payload.update(query_params)  # Update payload with additional query parameters\n",
    "            data_payload = 'params=' + json.dumps(payload)  # Convert payload to JSON string\n",
    "        else:\n",
    "            data_payload = f'params={{\"page\": \"{iteration_count}\"}}'  # Default payload with page number\n",
    "\n",
    "        try:\n",
    "            # Send POST request to the API\n",
    "            print(data_payload)\n",
    "            response = requests.request(\"POST\", request_url, data=data_payload, headers=headers)\n",
    "            response.raise_for_status()  # Raise an error for bad responses\n",
    "\n",
    "            json_response = response.json()  # Parse the JSON response\n",
    "\n",
    "            # Check if there are no results\n",
    "            if json_response[\"result_count\"] == 0:\n",
    "                has_more_results = False  # No more results to fetch\n",
    "                break\n",
    "\n",
    "            # Iterate over the rows in the response\n",
    "            for index in range(len(json_response['rows'])):\n",
    "                # Append each row as a dictionary to the results list\n",
    "                results_list.append(dict(zip(json_response['columns'], json_response['rows'][index])))\n",
    "\n",
    "        except Exception as e:\n",
    "            has_more_results = False  # Stop fetching results\n",
    "            print(f\"Error: {e}\")\n",
    "            break\n",
    "\n",
    "        iteration_count += 1  # Increment iteration count for pagination\n",
    "        if iteration_count>50:\n",
    "            break\n",
    "        time.sleep(1)  # Wait before the next request\n",
    "\n",
    "    results_dataframe = pd.DataFrame(results_list)  # Convert results list to DataFrame\n",
    "    return results_dataframe  # Return the DataFrame with results"
   ]
  },
  {
   "cell_type": "code",
   "execution_count": 3,
   "metadata": {},
   "outputs": [
    {
     "name": "stdout",
     "output_type": "stream",
     "text": [
      "params={\"page\": \"0\", \"start_date\": \"22/01/2024\", \"end_date\": \"28/04/2024\"}\n",
      "params={\"page\": \"1\", \"start_date\": \"22/01/2024\", \"end_date\": \"28/04/2024\"}\n",
      "params={\"page\": \"2\", \"start_date\": \"22/01/2024\", \"end_date\": \"28/04/2024\"}\n",
      "params={\"page\": \"3\", \"start_date\": \"22/01/2024\", \"end_date\": \"28/04/2024\"}\n",
      "params={\"page\": \"4\", \"start_date\": \"22/01/2024\", \"end_date\": \"28/04/2024\"}\n",
      "params={\"page\": \"5\", \"start_date\": \"22/01/2024\", \"end_date\": \"28/04/2024\"}\n",
      "params={\"page\": \"6\", \"start_date\": \"22/01/2024\", \"end_date\": \"28/04/2024\"}\n",
      "params={\"page\": \"7\", \"start_date\": \"22/01/2024\", \"end_date\": \"28/04/2024\"}\n",
      "params={\"page\": \"8\", \"start_date\": \"22/01/2024\", \"end_date\": \"28/04/2024\"}\n",
      "params={\"page\": \"9\", \"start_date\": \"22/01/2024\", \"end_date\": \"28/04/2024\"}\n",
      "params={\"page\": \"10\", \"start_date\": \"22/01/2024\", \"end_date\": \"28/04/2024\"}\n",
      "params={\"page\": \"11\", \"start_date\": \"22/01/2024\", \"end_date\": \"28/04/2024\"}\n",
      "params={\"page\": \"12\", \"start_date\": \"22/01/2024\", \"end_date\": \"28/04/2024\"}\n",
      "params={\"page\": \"13\", \"start_date\": \"22/01/2024\", \"end_date\": \"28/04/2024\"}\n",
      "params={\"page\": \"14\", \"start_date\": \"22/01/2024\", \"end_date\": \"28/04/2024\"}\n",
      "params={\"page\": \"15\", \"start_date\": \"22/01/2024\", \"end_date\": \"28/04/2024\"}\n",
      "params={\"page\": \"16\", \"start_date\": \"22/01/2024\", \"end_date\": \"28/04/2024\"}\n",
      "params={\"page\": \"17\", \"start_date\": \"22/01/2024\", \"end_date\": \"28/04/2024\"}\n",
      "params={\"page\": \"18\", \"start_date\": \"22/01/2024\", \"end_date\": \"28/04/2024\"}\n",
      "params={\"page\": \"19\", \"start_date\": \"22/01/2024\", \"end_date\": \"28/04/2024\"}\n",
      "params={\"page\": \"20\", \"start_date\": \"22/01/2024\", \"end_date\": \"28/04/2024\"}\n",
      "params={\"page\": \"21\", \"start_date\": \"22/01/2024\", \"end_date\": \"28/04/2024\"}\n",
      "params={\"page\": \"22\", \"start_date\": \"22/01/2024\", \"end_date\": \"28/04/2024\"}\n",
      "params={\"page\": \"23\", \"start_date\": \"22/01/2024\", \"end_date\": \"28/04/2024\"}\n",
      "params={\"page\": \"24\", \"start_date\": \"22/01/2024\", \"end_date\": \"28/04/2024\"}\n",
      "params={\"page\": \"25\", \"start_date\": \"22/01/2024\", \"end_date\": \"28/04/2024\"}\n",
      "params={\"page\": \"26\", \"start_date\": \"22/01/2024\", \"end_date\": \"28/04/2024\"}\n",
      "params={\"page\": \"27\", \"start_date\": \"22/01/2024\", \"end_date\": \"28/04/2024\"}\n",
      "params={\"page\": \"28\", \"start_date\": \"22/01/2024\", \"end_date\": \"28/04/2024\"}\n",
      "params={\"page\": \"29\", \"start_date\": \"22/01/2024\", \"end_date\": \"28/04/2024\"}\n",
      "params={\"page\": \"30\", \"start_date\": \"22/01/2024\", \"end_date\": \"28/04/2024\"}\n",
      "params={\"page\": \"31\", \"start_date\": \"22/01/2024\", \"end_date\": \"28/04/2024\"}\n",
      "params={\"page\": \"32\", \"start_date\": \"22/01/2024\", \"end_date\": \"28/04/2024\"}\n",
      "params={\"page\": \"33\", \"start_date\": \"22/01/2024\", \"end_date\": \"28/04/2024\"}\n",
      "params={\"page\": \"34\", \"start_date\": \"22/01/2024\", \"end_date\": \"28/04/2024\"}\n",
      "params={\"page\": \"35\", \"start_date\": \"22/01/2024\", \"end_date\": \"28/04/2024\"}\n",
      "params={\"page\": \"36\", \"start_date\": \"22/01/2024\", \"end_date\": \"28/04/2024\"}\n",
      "params={\"page\": \"37\", \"start_date\": \"22/01/2024\", \"end_date\": \"28/04/2024\"}\n",
      "params={\"page\": \"38\", \"start_date\": \"22/01/2024\", \"end_date\": \"28/04/2024\"}\n",
      "params={\"page\": \"39\", \"start_date\": \"22/01/2024\", \"end_date\": \"28/04/2024\"}\n",
      "params={\"page\": \"40\", \"start_date\": \"22/01/2024\", \"end_date\": \"28/04/2024\"}\n",
      "params={\"page\": \"41\", \"start_date\": \"22/01/2024\", \"end_date\": \"28/04/2024\"}\n",
      "params={\"page\": \"42\", \"start_date\": \"22/01/2024\", \"end_date\": \"28/04/2024\"}\n"
     ]
    }
   ],
   "source": [
    "params = {\"start_date\":\"22/01/2024\",\"end_date\":'28/04/2024'}\n",
    "req_data = execute_query(query_id=102,query_params=params)"
   ]
  },
  {
   "cell_type": "code",
   "execution_count": 4,
   "metadata": {},
   "outputs": [
    {
     "name": "stdout",
     "output_type": "stream",
     "text": [
      "<class 'pandas.core.frame.DataFrame'>\n",
      "RangeIndex: 41916 entries, 0 to 41915\n",
      "Data columns (total 9 columns):\n",
      " #   Column          Non-Null Count  Dtype\n",
      "---  ------          --------------  -----\n",
      " 0   user_id         41916 non-null  int64\n",
      " 1   likes_received  41916 non-null  int64\n",
      " 2   likes_given     41916 non-null  int64\n",
      " 3   topics_viewed   41916 non-null  int64\n",
      " 4   posts_read      41916 non-null  int64\n",
      " 5   days_visited    41916 non-null  int64\n",
      " 6   solutions       41916 non-null  int64\n",
      " 7   topics_created  41916 non-null  int64\n",
      " 8   posts_created   41916 non-null  int64\n",
      "dtypes: int64(9)\n",
      "memory usage: 2.9 MB\n"
     ]
    }
   ],
   "source": [
    "req_data.info()"
   ]
  },
  {
   "cell_type": "code",
   "execution_count": 5,
   "metadata": {},
   "outputs": [],
   "source": [
    "req_data.to_excel(\"..\\data\\course_excel_data_t1_2024\\data_all_users.xlsx\",index=False, sheet_name=\"user_actions_data\")"
   ]
  },
  {
   "cell_type": "code",
   "execution_count": null,
   "metadata": {},
   "outputs": [],
   "source": []
  },
  {
   "cell_type": "code",
   "execution_count": null,
   "metadata": {},
   "outputs": [],
   "source": []
  },
  {
   "cell_type": "code",
   "execution_count": null,
   "metadata": {},
   "outputs": [],
   "source": []
  }
 ],
 "metadata": {
  "kernelspec": {
   "display_name": "env",
   "language": "python",
   "name": "python3"
  },
  "language_info": {
   "codemirror_mode": {
    "name": "ipython",
    "version": 3
   },
   "file_extension": ".py",
   "mimetype": "text/x-python",
   "name": "python",
   "nbconvert_exporter": "python",
   "pygments_lexer": "ipython3",
   "version": "3.11.9"
  }
 },
 "nbformat": 4,
 "nbformat_minor": 2
}
