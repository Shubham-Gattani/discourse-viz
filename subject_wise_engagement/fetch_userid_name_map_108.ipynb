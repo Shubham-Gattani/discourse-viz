{
 "cells": [
  {
   "cell_type": "code",
   "execution_count": null,
   "metadata": {},
   "outputs": [],
   "source": [
    "import requests\n",
    "import pandas as pd\n",
    "import os\n",
    "import time\n",
    "import json"
   ]
  },
  {
   "cell_type": "code",
   "execution_count": 3,
   "metadata": {},
   "outputs": [],
   "source": [
    "def execute_query(query_id, query_params=None):\n",
    "    DISCOURSE_BASE_URL = \"https://discourse.onlinedegree.iitm.ac.in\"\n",
    "    GROUP_NAME = \"discourse_analytics\"\n",
    "    API_KEY_GLOBAL= os.environ.get('API_KEY')\n",
    "    API_USERNAME = 'shubhamG'\n",
    "\n",
    "    iteration_count = 0  # Initialize iteration counter\n",
    "    results_list = []  # List to store results\n",
    "    has_more_results = True  # Flag to control the loop for pagination\n",
    "\n",
    "    # Check if query_params is provided\n",
    "    if query_params is None:\n",
    "        pass  # No parameters provided, continue with default\n",
    "    else:\n",
    "        # Ensure query_params is a dictionary\n",
    "        if not isinstance(query_params, dict):\n",
    "            raise ValueError(\"Query parameters must be a dictionary.\")\n",
    "\n",
    "    # Set up headers for the API request\n",
    "    headers = {\n",
    "        \"Accept\": \"*/*\",\n",
    "        \"Api-Key\": API_KEY_GLOBAL,  # Get API key from userdata\n",
    "        \"Api-Username\": API_USERNAME,  # Set the username for the API\n",
    "        \"Content-Type\": \"multipart/form-data\"  # Set content type\n",
    "    }\n",
    "\n",
    "    # Loop until there are no more results\n",
    "    while has_more_results:\n",
    "        # Construct the request URL for the API\n",
    "        request_url = f\"{DISCOURSE_BASE_URL}/g/{GROUP_NAME}/reports/{query_id}/run\"\n",
    "\n",
    "        # Prepare the data payload for the request\n",
    "        if query_params is not None:\n",
    "            payload = {'page': str(iteration_count)}  # Add page number to payload\n",
    "            payload.update(query_params)  # Update payload with additional query parameters\n",
    "            data_payload = 'params=' + json.dumps(payload)  # Convert payload to JSON string\n",
    "        else:\n",
    "            data_payload = f'params={{\"page\": \"{iteration_count}\"}}'  # Default payload with page number\n",
    "\n",
    "        try:\n",
    "            # Send POST request to the API\n",
    "            print(data_payload)\n",
    "            response = requests.request(\"POST\", request_url, data=data_payload, headers=headers)\n",
    "            response.raise_for_status()  # Raise an error for bad responses\n",
    "\n",
    "            json_response = response.json()  # Parse the JSON response\n",
    "\n",
    "            # Check if there are no results\n",
    "            if json_response[\"result_count\"] == 0:\n",
    "                has_more_results = False  # No more results to fetch\n",
    "                break\n",
    "\n",
    "            # Iterate over the rows in the response\n",
    "            for index in range(len(json_response['rows'])):\n",
    "                # Append each row as a dictionary to the results list\n",
    "                results_list.append(dict(zip(json_response['columns'], json_response['rows'][index])))\n",
    "\n",
    "        except Exception as e:\n",
    "            # Log key-related errors\n",
    "            print(f'EXCEPTION: {e}')\n",
    "            has_more_results = False  # Stop fetching results\n",
    "            break\n",
    "\n",
    "        iteration_count += 1  # Increment iteration count for pagination\n",
    "        time.sleep(1)  # Wait before the next request\n",
    "\n",
    "    results_dataframe = pd.DataFrame(results_list)  # Convert results list to DataFrame\n",
    "    return results_dataframe  # Return the DataFrame with results"
   ]
  },
  {
   "cell_type": "code",
   "execution_count": null,
   "metadata": {},
   "outputs": [
    {
     "name": "stdout",
     "output_type": "stream",
     "text": [
      "params={\"page\": \"0\"}\n",
      "params={\"page\": \"1\"}\n",
      "params={\"page\": \"2\"}\n",
      "params={\"page\": \"3\"}\n",
      "params={\"page\": \"4\"}\n",
      "params={\"page\": \"5\"}\n",
      "params={\"page\": \"6\"}\n",
      "params={\"page\": \"7\"}\n",
      "params={\"page\": \"8\"}\n",
      "params={\"page\": \"9\"}\n",
      "params={\"page\": \"10\"}\n",
      "params={\"page\": \"11\"}\n",
      "params={\"page\": \"12\"}\n",
      "params={\"page\": \"13\"}\n",
      "params={\"page\": \"14\"}\n",
      "params={\"page\": \"15\"}\n",
      "params={\"page\": \"16\"}\n",
      "params={\"page\": \"17\"}\n",
      "params={\"page\": \"18\"}\n",
      "params={\"page\": \"19\"}\n",
      "params={\"page\": \"20\"}\n",
      "params={\"page\": \"21\"}\n",
      "params={\"page\": \"22\"}\n",
      "params={\"page\": \"23\"}\n",
      "params={\"page\": \"24\"}\n",
      "params={\"page\": \"25\"}\n",
      "params={\"page\": \"26\"}\n",
      "params={\"page\": \"27\"}\n",
      "params={\"page\": \"28\"}\n",
      "params={\"page\": \"29\"}\n",
      "params={\"page\": \"30\"}\n",
      "params={\"page\": \"31\"}\n",
      "params={\"page\": \"32\"}\n",
      "params={\"page\": \"33\"}\n",
      "params={\"page\": \"34\"}\n",
      "params={\"page\": \"35\"}\n",
      "params={\"page\": \"36\"}\n",
      "params={\"page\": \"37\"}\n",
      "params={\"page\": \"38\"}\n",
      "params={\"page\": \"39\"}\n",
      "params={\"page\": \"40\"}\n",
      "params={\"page\": \"41\"}\n",
      "params={\"page\": \"42\"}\n",
      "params={\"page\": \"43\"}\n"
     ]
    }
   ],
   "source": [
    "df_userid_name_map = execute_query(query_id=108,query_params=None) # No query params is required because we need data of all users"
   ]
  },
  {
   "cell_type": "code",
   "execution_count": 1,
   "metadata": {},
   "outputs": [],
   "source": [
    "# df_userid_name_map.info()"
   ]
  },
  {
   "cell_type": "code",
   "execution_count": 2,
   "metadata": {},
   "outputs": [],
   "source": [
    "# df_userid_name_map.sample(5, random_state=42)"
   ]
  },
  {
   "cell_type": "code",
   "execution_count": null,
   "metadata": {},
   "outputs": [],
   "source": [
    "\n",
    "# data_folder = \"../data\"\n",
    "# os.makedirs(data_folder, exist_ok=True)\n",
    "# req_data.to_csv(os.path.join(data_folder,\"id_username_mapping.csv\"), index=False)"
   ]
  }
 ],
 "metadata": {
  "kernelspec": {
   "display_name": "myenv",
   "language": "python",
   "name": "python3"
  },
  "language_info": {
   "codemirror_mode": {
    "name": "ipython",
    "version": 3
   },
   "file_extension": ".py",
   "mimetype": "text/x-python",
   "name": "python",
   "nbconvert_exporter": "python",
   "pygments_lexer": "ipython3",
   "version": "3.11.9"
  }
 },
 "nbformat": 4,
 "nbformat_minor": 2
}
